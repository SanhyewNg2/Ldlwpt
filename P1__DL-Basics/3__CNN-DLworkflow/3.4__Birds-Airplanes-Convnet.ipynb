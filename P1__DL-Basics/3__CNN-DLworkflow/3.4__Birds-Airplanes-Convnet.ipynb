version https://git-lfs.github.com/spec/v1
oid sha256:f6cf9c39da38eade3330d464b5057507a716e1ab96f732dc6ed5c37fa38c329e
size 121883
