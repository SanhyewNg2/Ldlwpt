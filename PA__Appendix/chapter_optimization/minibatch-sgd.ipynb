version https://git-lfs.github.com/spec/v1
oid sha256:9ba40578069a0dac83392579be9486b62693cee65a74f695680d5f38b08538a8
size 229430
