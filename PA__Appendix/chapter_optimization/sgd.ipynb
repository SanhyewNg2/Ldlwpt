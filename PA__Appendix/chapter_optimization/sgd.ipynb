version https://git-lfs.github.com/spec/v1
oid sha256:37a0194e73c0cd6060a8df898d79976937dc2e53f3289cff3396719772eeedd9
size 241448
